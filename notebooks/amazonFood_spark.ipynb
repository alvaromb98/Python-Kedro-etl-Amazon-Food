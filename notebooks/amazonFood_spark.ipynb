{
 "cells": [
  {
   "cell_type": "code",
   "execution_count": 17,
   "metadata": {
    "collapsed": true
   },
   "outputs": [],
   "source": [
    "from pyspark.sql import SparkSession\n",
    "from pyspark.sql.functions import *"
   ]
  },
  {
   "cell_type": "code",
   "execution_count": 18,
   "outputs": [],
   "source": [
    "spark = SparkSession.builder.getOrCreate()"
   ],
   "metadata": {
    "collapsed": false,
    "pycharm": {
     "name": "#%%\n"
    }
   }
  },
  {
   "cell_type": "code",
   "execution_count": 19,
   "outputs": [
    {
     "name": "stdout",
     "output_type": "stream",
     "text": [
      "+----------+--------------+--------------------+-----+--------------------+--------------------+\n",
      "| ProductId|        UserId|         productName|Score|             Summary|                Text|\n",
      "+----------+--------------+--------------------+-----+--------------------+--------------------+\n",
      "|B001E4KFG0|A3SGXH7AUHU8GW|Dogswell Vitality...|    5|Good Quality Dog ...|I have bought sev...|\n",
      "|B00813GRG4|A1D87F6ZCVE5NK|Southern Grove Pr...|    1|   Not as Advertised|\"Product arrived ...|\n",
      "|B000LQOCH0| ABXLMWJIXXAIN|Turkish Delight F...|    4|\"\"\"Delight\"\" says...|\"This is a confec...|\n",
      "|B000UA0QIQ|A395BORC6FGVXV|Faeries Finest Fl...|    2|      Cough Medicine|If you are lookin...|\n",
      "|B006K2ZZ7K|A1UQRSCLF8GW1T|Salt Water Taffy ...|    5|         Great taffy|Great taffy at a ...|\n",
      "|B006K2ZZ7K| ADT0SRK1MGOEU|Salt Water Taffy ...|    4|          Nice Taffy|I got a wild hair...|\n",
      "|B006K2ZZ7K|A1SP2KVKFXXRU1|Salt Water Taffy ...|    5|Great!  Just as g...|This saltwater ta...|\n",
      "|B006K2ZZ7K|A3JRGQVEQN31IQ|Salt Water Taffy ...|    5|Wonderful, tasty ...|This taffy is so ...|\n",
      "|B000E7L2R4|A1MZYO9TZK0BBI|Organic Barley Se...|    5|          Yay Barley|Right now I'm mos...|\n",
      "|B00171APVA|A21BT40VZCCYT4|Eukanuba Natural ...|    5|    Healthy Dog Food|This is a very he...|\n",
      "|B0001PB9FE|A3HDKO7OW0QNK4|Original Tequila ...|    5|The Best Hot Sauc...|I don't know if i...|\n",
      "|B0009XLVG0|A2725IB4YY9JEB|Canidae All Life ...|    5|\"My cats LOVE thi...|One of my boys ne...|\n",
      "|B0009XLVG0| A327PCT23YH90|Canidae All Life ...|    1|My Cats Are Not F...|My cats have been...|\n",
      "|B001GVISJM|A18ECVX2RJ7HUE|TWIZZLERS Twists,...|    4|   fresh and greasy!|good flavor! thes...|\n",
      "|B001GVISJM|A2MUGFV2TDQ47K|TWIZZLERS Twists,...|    5|Strawberry Twizzl...|The Strawberry Tw...|\n",
      "|B001GVISJM|A1CZX3CP8IKQIJ|TWIZZLERS Twists,...|    5|Lots of twizzlers...|My daughter loves...|\n",
      "|B001GVISJM|A3KLWF6WQ5BNYO|TWIZZLERS Twists,...|    2|          poor taste|I love eating the...|\n",
      "|B001GVISJM| AFKW14U97Z6QO|TWIZZLERS Twists,...|    5|            Love it!|I am very satisfi...|\n",
      "|B001GVISJM|A2A9X58G2GTBLP|TWIZZLERS Twists,...|    5|  GREAT SWEET CANDY!|Twizzlers, Strawb...|\n",
      "|B001GVISJM|A3IV7CL2C13K2U|TWIZZLERS Twists,...|    5|Home delivered tw...|Candy was deliver...|\n",
      "+----------+--------------+--------------------+-----+--------------------+--------------------+\n",
      "only showing top 20 rows\n",
      "\n"
     ]
    }
   ],
   "source": [
    "amazon_food = spark.read.csv('../data/01_raw/amazonFood.csv', sep=',', header=True)\n",
    "amazon_food.show()"
   ],
   "metadata": {
    "collapsed": false,
    "pycharm": {
     "name": "#%%\n"
    }
   }
  },
  {
   "cell_type": "code",
   "execution_count": 48,
   "outputs": [
    {
     "name": "stdout",
     "output_type": "stream",
     "text": [
      "+--------------------+------------------+----------------+\n",
      "|         productName|        avg(Score)|count(ProductId)|\n",
      "+--------------------+------------------+----------------+\n",
      "|GREENIES Pill Poc...| 4.589041095890411|              73|\n",
      "|La Tourangelle, R...| 4.741935483870968|              31|\n",
      "|Da'Bomb - The Fin...|  4.67741935483871|              31|\n",
      "|Todd's Seeds® Bro...| 4.416666666666667|              36|\n",
      "|Twinings of Londo...| 4.133333333333334|              45|\n",
      "|Dogswell Happy Hi...|3.5396039603960396|             404|\n",
      "|Medaglia D'Oro In...| 4.454545454545454|              33|\n",
      "|100% Organic Cat ...|              4.65|              40|\n",
      "|Panda All Natural...| 4.837837837837838|              37|\n",
      "|Wasa Crisp'n Ligh...|            4.6875|              32|\n",
      "|The Switch Sparkl...|3.5014409221902016|             347|\n",
      "|Beaba Multiportio...| 4.285714285714286|              77|\n",
      "|Kettle Brand Pota...| 4.013824884792626|             217|\n",
      "|Honey Stinger Org...|4.7105263157894735|              38|\n",
      "|mberry Miracle Be...| 3.772277227722772|             101|\n",
      "|O.N.E. Coconut Wa...|3.6857142857142855|              35|\n",
      "|Stephen's Gourmet...|              4.25|              76|\n",
      "|Betty Crocker Bis...| 4.306034482758621|             232|\n",
      "|Deep River Snacks...|4.1395348837209305|              43|\n",
      "|Melitta Café de E...|              3.91|             100|\n",
      "+--------------------+------------------+----------------+\n",
      "only showing top 20 rows\n",
      "\n"
     ]
    }
   ],
   "source": [
    "amazon_food.groupBy('productName') \\\n",
    "    .agg({'ProductId': 'count', 'Score': 'avg'}) \\\n",
    "    .where(col('count(ProductId)') > 30) \\\n",
    "    .show()"
   ],
   "metadata": {
    "collapsed": false,
    "pycharm": {
     "name": "#%%\n"
    }
   }
  },
  {
   "cell_type": "code",
   "execution_count": null,
   "outputs": [],
   "source": [
    "amazon_food.orderBy('avg(Score)', 'count(ProductId)')\n",
    "\n",
    "    .filter('count(ProductId)' > 30) \\"
   ],
   "metadata": {
    "collapsed": false,
    "pycharm": {
     "name": "#%%\n"
    }
   }
  }
 ],
 "metadata": {
  "kernelspec": {
   "display_name": "Python 3",
   "language": "python",
   "name": "python3"
  },
  "language_info": {
   "codemirror_mode": {
    "name": "ipython",
    "version": 2
   },
   "file_extension": ".py",
   "mimetype": "text/x-python",
   "name": "python",
   "nbconvert_exporter": "python",
   "pygments_lexer": "ipython2",
   "version": "2.7.6"
  }
 },
 "nbformat": 4,
 "nbformat_minor": 0
}