{
 "cells": [
  {
   "cell_type": "code",
   "execution_count": 17,
   "metadata": {
    "collapsed": true
   },
   "outputs": [],
   "source": [
    "from pyspark.sql import SparkSession\n",
    "from pyspark.sql.functions import *"
   ]
  },
  {
   "cell_type": "code",
   "execution_count": 18,
   "outputs": [],
   "source": [
    "spark = SparkSession.builder.getOrCreate()"
   ],
   "metadata": {
    "collapsed": false,
    "pycharm": {
     "name": "#%%\n"
    }
   }
  },
  {
   "cell_type": "code",
   "execution_count": 19,
   "outputs": [
    {
     "name": "stdout",
     "output_type": "stream",
     "text": [
      "+----------+--------------+--------------------+-----+--------------------+--------------------+\n",
      "| ProductId|        UserId|         productName|Score|             Summary|                Text|\n",
      "+----------+--------------+--------------------+-----+--------------------+--------------------+\n",
      "|B001E4KFG0|A3SGXH7AUHU8GW|Dogswell Vitality...|    5|Good Quality Dog ...|I have bought sev...|\n",
      "|B00813GRG4|A1D87F6ZCVE5NK|Southern Grove Pr...|    1|   Not as Advertised|\"Product arrived ...|\n",
      "|B000LQOCH0| ABXLMWJIXXAIN|Turkish Delight F...|    4|\"\"\"Delight\"\" says...|\"This is a confec...|\n",
      "|B000UA0QIQ|A395BORC6FGVXV|Faeries Finest Fl...|    2|      Cough Medicine|If you are lookin...|\n",
      "|B006K2ZZ7K|A1UQRSCLF8GW1T|Salt Water Taffy ...|    5|         Great taffy|Great taffy at a ...|\n",
      "|B006K2ZZ7K| ADT0SRK1MGOEU|Salt Water Taffy ...|    4|          Nice Taffy|I got a wild hair...|\n",
      "|B006K2ZZ7K|A1SP2KVKFXXRU1|Salt Water Taffy ...|    5|Great!  Just as g...|This saltwater ta...|\n",
      "|B006K2ZZ7K|A3JRGQVEQN31IQ|Salt Water Taffy ...|    5|Wonderful, tasty ...|This taffy is so ...|\n",
      "|B000E7L2R4|A1MZYO9TZK0BBI|Organic Barley Se...|    5|          Yay Barley|Right now I'm mos...|\n",
      "|B00171APVA|A21BT40VZCCYT4|Eukanuba Natural ...|    5|    Healthy Dog Food|This is a very he...|\n",
      "|B0001PB9FE|A3HDKO7OW0QNK4|Original Tequila ...|    5|The Best Hot Sauc...|I don't know if i...|\n",
      "|B0009XLVG0|A2725IB4YY9JEB|Canidae All Life ...|    5|\"My cats LOVE thi...|One of my boys ne...|\n",
      "|B0009XLVG0| A327PCT23YH90|Canidae All Life ...|    1|My Cats Are Not F...|My cats have been...|\n",
      "|B001GVISJM|A18ECVX2RJ7HUE|TWIZZLERS Twists,...|    4|   fresh and greasy!|good flavor! thes...|\n",
      "|B001GVISJM|A2MUGFV2TDQ47K|TWIZZLERS Twists,...|    5|Strawberry Twizzl...|The Strawberry Tw...|\n",
      "|B001GVISJM|A1CZX3CP8IKQIJ|TWIZZLERS Twists,...|    5|Lots of twizzlers...|My daughter loves...|\n",
      "|B001GVISJM|A3KLWF6WQ5BNYO|TWIZZLERS Twists,...|    2|          poor taste|I love eating the...|\n",
      "|B001GVISJM| AFKW14U97Z6QO|TWIZZLERS Twists,...|    5|            Love it!|I am very satisfi...|\n",
      "|B001GVISJM|A2A9X58G2GTBLP|TWIZZLERS Twists,...|    5|  GREAT SWEET CANDY!|Twizzlers, Strawb...|\n",
      "|B001GVISJM|A3IV7CL2C13K2U|TWIZZLERS Twists,...|    5|Home delivered tw...|Candy was deliver...|\n",
      "+----------+--------------+--------------------+-----+--------------------+--------------------+\n",
      "only showing top 20 rows\n",
      "\n"
     ]
    }
   ],
   "source": [
    "amazon_food = spark.read.csv('../data/01_raw/amazonFood.csv', sep=',', header=True)\n",
    "amazon_food.show()"
   ],
   "metadata": {
    "collapsed": false,
    "pycharm": {
     "name": "#%%\n"
    }
   }
  },
  {
   "cell_type": "code",
   "execution_count": 64,
   "outputs": [
    {
     "name": "stdout",
     "output_type": "stream",
     "text": [
      "+--------------------+------------------+----------------+\n",
      "|         productName|        avg(Score)|count(ProductId)|\n",
      "+--------------------+------------------+----------------+\n",
      "|Coach's Oats 100%...|  4.96969696969697|              33|\n",
      "|RiceSelect Whole ...| 4.885714285714286|              35|\n",
      "|Twinings of Londo...| 4.870967741935484|              31|\n",
      "|Panda All Natural...| 4.837837837837838|              37|\n",
      "|Mae Ploy Sweet Ch...| 4.791666666666667|              48|\n",
      "|Mae Ploy Sweet Ch...| 4.791666666666667|              48|\n",
      "|Zuke's Hip Action...| 4.787878787878788|              99|\n",
      "|6-PACK Beef Pill ...| 4.777777777777778|              36|\n",
      "|Grassfed Organic ...| 4.766666666666667|              60|\n",
      "|Kicking Horse Cof...|4.7631578947368425|              38|\n",
      "|The Spice Lab Him...|4.7560975609756095|              41|\n",
      "|PG Tips Black Tea...| 4.754716981132075|             212|\n",
      "|Stewart Freeze Dr...| 4.752873563218391|             174|\n",
      "|The Gluten-Free P...| 4.747252747252747|              91|\n",
      "|Royal Oak Gourmet...| 4.742857142857143|              35|\n",
      "|La Tourangelle, R...| 4.741935483870968|              31|\n",
      "|Folgers Lively Co...| 4.733333333333333|              45|\n",
      "|Temptations Cat T...|4.7153284671532845|             137|\n",
      "|Honey Stinger Org...|4.7105263157894735|              38|\n",
      "|Coombs Family Far...| 4.696969696969697|             165|\n",
      "+--------------------+------------------+----------------+\n",
      "only showing top 20 rows\n",
      "\n"
     ]
    }
   ],
   "source": [
    "amazon_food.groupBy('productName') \\\n",
    "    .agg({'ProductId': 'count', 'Score': 'avg'}) \\\n",
    "    .where(col('count(ProductId)') > 30) \\\n",
    "    .orderBy(['avg(Score)', 'count(ProductId)'], ascending=False) \\\n",
    "    .show()"
   ],
   "metadata": {
    "collapsed": false,
    "pycharm": {
     "name": "#%%\n"
    }
   }
  },
  {
   "cell_type": "code",
   "execution_count": 61,
   "outputs": [
    {
     "name": "stdout",
     "output_type": "stream",
     "text": [
      "+--------------+-------------+\n",
      "|        UserId|count(UserId)|\n",
      "+--------------+-------------+\n",
      "| AY12DBB0U420B|           38|\n",
      "|A1Z54EM24Y40LL|           32|\n",
      "|A1TMAVN4CEM8U8|           29|\n",
      "|A3OXHLG6DIBRW8|           29|\n",
      "|A1YUL9PCJR3JTY|           28|\n",
      "|A281NPSIMI1C2R|           25|\n",
      "|A31N6KB160O508|           20|\n",
      "|A3PJZ8TU8FDQ1K|           19|\n",
      "|A2SZLNSI5KOQJT|           16|\n",
      "| AY1EF0GOH80EK|           15|\n",
      "|A3HPCRD9RX351S|           15|\n",
      "|A1ZH9LWMX5UCFJ|           13|\n",
      "|A1UQBFCERIP7VJ|           13|\n",
      "|A25C2M3QF9G7OQ|           13|\n",
      "|A2MUGFV2TDQ47K|           13|\n",
      "|A2A1XYSB692L6J|           12|\n",
      "|A2PNOU7NXB1JE4|           12|\n",
      "|A1IU7S4HCK1XK0|           12|\n",
      "| AQQLWCMRNDFGI|           12|\n",
      "|A36WGHR8TO5DKT|           12|\n",
      "+--------------+-------------+\n",
      "only showing top 20 rows\n",
      "\n"
     ]
    }
   ],
   "source": [
    "amazon_food.groupBy('UserId') \\\n",
    "    .agg({'UserId': 'count'}) \\\n",
    "    .orderBy('count(UserId)', ascending=False) \\\n",
    "    .show()"
   ],
   "metadata": {
    "collapsed": false,
    "pycharm": {
     "name": "#%%\n"
    }
   }
  },
  {
   "cell_type": "code",
   "execution_count": null,
   "outputs": [],
   "source": [],
   "metadata": {
    "collapsed": false,
    "pycharm": {
     "name": "#%%\n"
    }
   }
  }
 ],
 "metadata": {
  "kernelspec": {
   "display_name": "Python 3",
   "language": "python",
   "name": "python3"
  },
  "language_info": {
   "codemirror_mode": {
    "name": "ipython",
    "version": 2
   },
   "file_extension": ".py",
   "mimetype": "text/x-python",
   "name": "python",
   "nbconvert_exporter": "python",
   "pygments_lexer": "ipython2",
   "version": "2.7.6"
  }
 },
 "nbformat": 4,
 "nbformat_minor": 0
}