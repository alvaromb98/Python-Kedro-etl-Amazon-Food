{
 "cells": [
  {
   "cell_type": "code",
   "execution_count": 1,
   "outputs": [],
   "source": [
    "import pandas as pd"
   ],
   "metadata": {
    "collapsed": false,
    "pycharm": {
     "name": "#%%\n"
    }
   }
  },
  {
   "cell_type": "code",
   "execution_count": 2,
   "outputs": [
    {
     "data": {
      "text/plain": "    ProductId          UserId  \\\n0  B001E4KFG0  A3SGXH7AUHU8GW   \n1  B00813GRG4  A1D87F6ZCVE5NK   \n2  B000LQOCH0   ABXLMWJIXXAIN   \n3  B000UA0QIQ  A395BORC6FGVXV   \n4  B006K2ZZ7K  A1UQRSCLF8GW1T   \n5  B006K2ZZ7K   ADT0SRK1MGOEU   \n6  B006K2ZZ7K  A1SP2KVKFXXRU1   \n7  B006K2ZZ7K  A3JRGQVEQN31IQ   \n8  B000E7L2R4  A1MZYO9TZK0BBI   \n9  B00171APVA  A21BT40VZCCYT4   \n\n                                         productName  Score  \\\n0        Dogswell Vitality Canned Dog Food Case Duck      5   \n1  Southern Grove Premium Quality Roasted and Sal...      1   \n2  Turkish Delight Filbert (Hazelnuts) (Sultan) 1...      4   \n3  Faeries Finest Flavor Extract, Cherry, 2.04 Ounce      2   \n4                 Salt Water Taffy - Assorted, 5 lbs      5   \n5                 Salt Water Taffy - Assorted, 5 lbs      4   \n6                 Salt Water Taffy - Assorted, 5 lbs      5   \n7                 Salt Water Taffy - Assorted, 5 lbs      5   \n8  Organic Barley Seeds - 9 Lbs in Pre-Measured B...      5   \n9    Eukanuba Natural Lamb & Rice Puppy, 4-Pound Bag      5   \n\n                                         Summary  \\\n0                          Good Quality Dog Food   \n1                              Not as Advertised   \n2                          \"Delight\" says it all   \n3                                 Cough Medicine   \n4                                    Great taffy   \n5                                     Nice Taffy   \n6  Great!  Just as good as the expensive brands!   \n7                         Wonderful, tasty taffy   \n8                                     Yay Barley   \n9                               Healthy Dog Food   \n\n                                                Text  \n0  I have bought several of the Vitality canned d...  \n1  Product arrived labeled as Jumbo Salted Peanut...  \n2  This is a confection that has been around a fe...  \n3  If you are looking for the secret ingredient i...  \n4  Great taffy at a great price.  There was a wid...  \n5  I got a wild hair for taffy and ordered this f...  \n6  This saltwater taffy had great flavors and was...  \n7  This taffy is so good.  It is very soft and ch...  \n8  Right now I'm mostly just sprouting this so my...  \n9  This is a very healthy dog food. Good for thei...  ",
      "text/html": "<div>\n<style scoped>\n    .dataframe tbody tr th:only-of-type {\n        vertical-align: middle;\n    }\n\n    .dataframe tbody tr th {\n        vertical-align: top;\n    }\n\n    .dataframe thead th {\n        text-align: right;\n    }\n</style>\n<table border=\"1\" class=\"dataframe\">\n  <thead>\n    <tr style=\"text-align: right;\">\n      <th></th>\n      <th>ProductId</th>\n      <th>UserId</th>\n      <th>productName</th>\n      <th>Score</th>\n      <th>Summary</th>\n      <th>Text</th>\n    </tr>\n  </thead>\n  <tbody>\n    <tr>\n      <th>0</th>\n      <td>B001E4KFG0</td>\n      <td>A3SGXH7AUHU8GW</td>\n      <td>Dogswell Vitality Canned Dog Food Case Duck</td>\n      <td>5</td>\n      <td>Good Quality Dog Food</td>\n      <td>I have bought several of the Vitality canned d...</td>\n    </tr>\n    <tr>\n      <th>1</th>\n      <td>B00813GRG4</td>\n      <td>A1D87F6ZCVE5NK</td>\n      <td>Southern Grove Premium Quality Roasted and Sal...</td>\n      <td>1</td>\n      <td>Not as Advertised</td>\n      <td>Product arrived labeled as Jumbo Salted Peanut...</td>\n    </tr>\n    <tr>\n      <th>2</th>\n      <td>B000LQOCH0</td>\n      <td>ABXLMWJIXXAIN</td>\n      <td>Turkish Delight Filbert (Hazelnuts) (Sultan) 1...</td>\n      <td>4</td>\n      <td>\"Delight\" says it all</td>\n      <td>This is a confection that has been around a fe...</td>\n    </tr>\n    <tr>\n      <th>3</th>\n      <td>B000UA0QIQ</td>\n      <td>A395BORC6FGVXV</td>\n      <td>Faeries Finest Flavor Extract, Cherry, 2.04 Ounce</td>\n      <td>2</td>\n      <td>Cough Medicine</td>\n      <td>If you are looking for the secret ingredient i...</td>\n    </tr>\n    <tr>\n      <th>4</th>\n      <td>B006K2ZZ7K</td>\n      <td>A1UQRSCLF8GW1T</td>\n      <td>Salt Water Taffy - Assorted, 5 lbs</td>\n      <td>5</td>\n      <td>Great taffy</td>\n      <td>Great taffy at a great price.  There was a wid...</td>\n    </tr>\n    <tr>\n      <th>5</th>\n      <td>B006K2ZZ7K</td>\n      <td>ADT0SRK1MGOEU</td>\n      <td>Salt Water Taffy - Assorted, 5 lbs</td>\n      <td>4</td>\n      <td>Nice Taffy</td>\n      <td>I got a wild hair for taffy and ordered this f...</td>\n    </tr>\n    <tr>\n      <th>6</th>\n      <td>B006K2ZZ7K</td>\n      <td>A1SP2KVKFXXRU1</td>\n      <td>Salt Water Taffy - Assorted, 5 lbs</td>\n      <td>5</td>\n      <td>Great!  Just as good as the expensive brands!</td>\n      <td>This saltwater taffy had great flavors and was...</td>\n    </tr>\n    <tr>\n      <th>7</th>\n      <td>B006K2ZZ7K</td>\n      <td>A3JRGQVEQN31IQ</td>\n      <td>Salt Water Taffy - Assorted, 5 lbs</td>\n      <td>5</td>\n      <td>Wonderful, tasty taffy</td>\n      <td>This taffy is so good.  It is very soft and ch...</td>\n    </tr>\n    <tr>\n      <th>8</th>\n      <td>B000E7L2R4</td>\n      <td>A1MZYO9TZK0BBI</td>\n      <td>Organic Barley Seeds - 9 Lbs in Pre-Measured B...</td>\n      <td>5</td>\n      <td>Yay Barley</td>\n      <td>Right now I'm mostly just sprouting this so my...</td>\n    </tr>\n    <tr>\n      <th>9</th>\n      <td>B00171APVA</td>\n      <td>A21BT40VZCCYT4</td>\n      <td>Eukanuba Natural Lamb &amp; Rice Puppy, 4-Pound Bag</td>\n      <td>5</td>\n      <td>Healthy Dog Food</td>\n      <td>This is a very healthy dog food. Good for thei...</td>\n    </tr>\n  </tbody>\n</table>\n</div>"
     },
     "execution_count": 2,
     "metadata": {},
     "output_type": "execute_result"
    }
   ],
   "source": [
    "amazon_food = pd.read_csv('../data/01_raw/amazonFood.csv', sep=',', header='infer')\n",
    "amazon_food.head(10)"
   ],
   "metadata": {
    "collapsed": false,
    "pycharm": {
     "name": "#%%\n"
    }
   }
  },
  {
   "cell_type": "code",
   "execution_count": 3,
   "outputs": [
    {
     "data": {
      "text/plain": "                                            productName  count  Average Rating\n955      Coach's Oats 100% Whole Grain Oatmeal, 4.5 lbs     33        4.969697\n3719  RiceSelect Whole Wheat Orzo Rice-Shaped Pasta,...     35        4.885714\n4570  Twinings of London Classics Black Tea Variety ...     31        4.870968\n3364  Panda All Natural Licorice Chews, 7 Ounce Boxe...     37        4.837838\n2657       Mae Ploy Sweet Chili Sauce - 25 fl oz bottle     48        4.791667\n...                                                 ...    ...             ...\n4774  Wild Ride Beef Jerky Cowboy Strips, Pepper, 1....    162        3.061728\n3633  Quaker Soft Baked Oatmeal Cookie, Chocolate Al...     85        2.988235\n1871  HERSHEY'S Genuine Chocolate Flavor Sugar Free ...     45        2.777778\n1418  Ethical Coffee Company Espresso, Espressivo fo...     38        2.578947\n692   Cafe Escapes Milk Chocolate Hot Cocoa Keurig K...     44        2.568182\n\n[225 rows x 3 columns]",
      "text/html": "<div>\n<style scoped>\n    .dataframe tbody tr th:only-of-type {\n        vertical-align: middle;\n    }\n\n    .dataframe tbody tr th {\n        vertical-align: top;\n    }\n\n    .dataframe thead th {\n        text-align: right;\n    }\n</style>\n<table border=\"1\" class=\"dataframe\">\n  <thead>\n    <tr style=\"text-align: right;\">\n      <th></th>\n      <th>productName</th>\n      <th>count</th>\n      <th>Average Rating</th>\n    </tr>\n  </thead>\n  <tbody>\n    <tr>\n      <th>955</th>\n      <td>Coach's Oats 100% Whole Grain Oatmeal, 4.5 lbs</td>\n      <td>33</td>\n      <td>4.969697</td>\n    </tr>\n    <tr>\n      <th>3719</th>\n      <td>RiceSelect Whole Wheat Orzo Rice-Shaped Pasta,...</td>\n      <td>35</td>\n      <td>4.885714</td>\n    </tr>\n    <tr>\n      <th>4570</th>\n      <td>Twinings of London Classics Black Tea Variety ...</td>\n      <td>31</td>\n      <td>4.870968</td>\n    </tr>\n    <tr>\n      <th>3364</th>\n      <td>Panda All Natural Licorice Chews, 7 Ounce Boxe...</td>\n      <td>37</td>\n      <td>4.837838</td>\n    </tr>\n    <tr>\n      <th>2657</th>\n      <td>Mae Ploy Sweet Chili Sauce - 25 fl oz bottle</td>\n      <td>48</td>\n      <td>4.791667</td>\n    </tr>\n    <tr>\n      <th>...</th>\n      <td>...</td>\n      <td>...</td>\n      <td>...</td>\n    </tr>\n    <tr>\n      <th>4774</th>\n      <td>Wild Ride Beef Jerky Cowboy Strips, Pepper, 1....</td>\n      <td>162</td>\n      <td>3.061728</td>\n    </tr>\n    <tr>\n      <th>3633</th>\n      <td>Quaker Soft Baked Oatmeal Cookie, Chocolate Al...</td>\n      <td>85</td>\n      <td>2.988235</td>\n    </tr>\n    <tr>\n      <th>1871</th>\n      <td>HERSHEY'S Genuine Chocolate Flavor Sugar Free ...</td>\n      <td>45</td>\n      <td>2.777778</td>\n    </tr>\n    <tr>\n      <th>1418</th>\n      <td>Ethical Coffee Company Espresso, Espressivo fo...</td>\n      <td>38</td>\n      <td>2.578947</td>\n    </tr>\n    <tr>\n      <th>692</th>\n      <td>Cafe Escapes Milk Chocolate Hot Cocoa Keurig K...</td>\n      <td>44</td>\n      <td>2.568182</td>\n    </tr>\n  </tbody>\n</table>\n<p>225 rows × 3 columns</p>\n</div>"
     },
     "execution_count": 3,
     "metadata": {},
     "output_type": "execute_result"
    }
   ],
   "source": [
    "amazon_food.groupby('productName') \\\n",
    ".agg({'ProductId': 'size', 'Score': 'mean'}) \\\n",
    ".rename(columns={'ProductId': 'count', 'Score': 'Average Rating'}) \\\n",
    ".reset_index() \\\n",
    ".query('count>30') \\\n",
    ".sort_values(['Average Rating','count'], ascending=False)\n"
   ],
   "metadata": {
    "collapsed": false,
    "pycharm": {
     "name": "#%%\n"
    }
   }
  },
  {
   "cell_type": "code",
   "execution_count": 7,
   "outputs": [
    {
     "data": {
      "text/plain": "               UserId  count\n34117   AY12DBB0U420B     38\n8928   A1Z54EM24Y40LL     32\n24594  A3OXHLG6DIBRW8     29\n7509   A1TMAVN4CEM8U8     29\n8854   A1YUL9PCJR3JTY     28\n...               ...    ...\n12305  A2CHHNIA58EPIG      1\n12304  A2CHCUOAR9SVUE      1\n12302  A2CH86UUU5R4F4      1\n12300  A2CH71BG8TO5NN      1\n34604   AZZMO52V8WZ68      1\n\n[34605 rows x 2 columns]",
      "text/html": "<div>\n<style scoped>\n    .dataframe tbody tr th:only-of-type {\n        vertical-align: middle;\n    }\n\n    .dataframe tbody tr th {\n        vertical-align: top;\n    }\n\n    .dataframe thead th {\n        text-align: right;\n    }\n</style>\n<table border=\"1\" class=\"dataframe\">\n  <thead>\n    <tr style=\"text-align: right;\">\n      <th></th>\n      <th>UserId</th>\n      <th>count</th>\n    </tr>\n  </thead>\n  <tbody>\n    <tr>\n      <th>34117</th>\n      <td>AY12DBB0U420B</td>\n      <td>38</td>\n    </tr>\n    <tr>\n      <th>8928</th>\n      <td>A1Z54EM24Y40LL</td>\n      <td>32</td>\n    </tr>\n    <tr>\n      <th>24594</th>\n      <td>A3OXHLG6DIBRW8</td>\n      <td>29</td>\n    </tr>\n    <tr>\n      <th>7509</th>\n      <td>A1TMAVN4CEM8U8</td>\n      <td>29</td>\n    </tr>\n    <tr>\n      <th>8854</th>\n      <td>A1YUL9PCJR3JTY</td>\n      <td>28</td>\n    </tr>\n    <tr>\n      <th>...</th>\n      <td>...</td>\n      <td>...</td>\n    </tr>\n    <tr>\n      <th>12305</th>\n      <td>A2CHHNIA58EPIG</td>\n      <td>1</td>\n    </tr>\n    <tr>\n      <th>12304</th>\n      <td>A2CHCUOAR9SVUE</td>\n      <td>1</td>\n    </tr>\n    <tr>\n      <th>12302</th>\n      <td>A2CH86UUU5R4F4</td>\n      <td>1</td>\n    </tr>\n    <tr>\n      <th>12300</th>\n      <td>A2CH71BG8TO5NN</td>\n      <td>1</td>\n    </tr>\n    <tr>\n      <th>34604</th>\n      <td>AZZMO52V8WZ68</td>\n      <td>1</td>\n    </tr>\n  </tbody>\n</table>\n<p>34605 rows × 2 columns</p>\n</div>"
     },
     "execution_count": 7,
     "metadata": {},
     "output_type": "execute_result"
    }
   ],
   "source": [
    "amazon_food.groupby('UserId').agg({'UserId': 'size'}).rename(columns={'UserId': 'count'}).reset_index().sort_values('count', ascending=False)"
   ],
   "metadata": {
    "collapsed": false,
    "pycharm": {
     "name": "#%%\n"
    }
   }
  },
  {
   "cell_type": "code",
   "execution_count": null,
   "outputs": [],
   "source": [],
   "metadata": {
    "collapsed": false,
    "pycharm": {
     "name": "#%%\n"
    }
   }
  }
 ],
 "metadata": {
  "kernelspec": {
   "display_name": "Python 3",
   "language": "python",
   "name": "python3"
  },
  "language_info": {
   "codemirror_mode": {
    "name": "ipython",
    "version": 2
   },
   "file_extension": ".py",
   "mimetype": "text/x-python",
   "name": "python",
   "nbconvert_exporter": "python",
   "pygments_lexer": "ipython2",
   "version": "2.7.6"
  }
 },
 "nbformat": 4,
 "nbformat_minor": 0
}